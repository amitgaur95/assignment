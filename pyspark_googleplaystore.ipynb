{
  "nbformat": 4,
  "nbformat_minor": 0,
  "metadata": {
    "colab": {
      "provenance": [],
      "toc_visible": true,
      "include_colab_link": true
    },
    "kernelspec": {
      "name": "python3",
      "display_name": "Python 3"
    },
    "language_info": {
      "name": "python"
    }
  },
  "cells": [
    {
      "cell_type": "markdown",
      "metadata": {
        "id": "view-in-github",
        "colab_type": "text"
      },
      "source": [
        "<a href=\"https://colab.research.google.com/github/amitgaur95/assignment/blob/main/pyspark_googleplaystore.ipynb\" target=\"_parent\"><img src=\"https://colab.research.google.com/assets/colab-badge.svg\" alt=\"Open In Colab\"/></a>"
      ]
    },
    {
      "cell_type": "code",
      "execution_count": null,
      "metadata": {
        "colab": {
          "base_uri": "https://localhost:8080/"
        },
        "id": "hZiIIbhNs4OC",
        "outputId": "9c484421-18af-41ea-ff73-237cacb5c596"
      },
      "outputs": [
        {
          "output_type": "stream",
          "name": "stdout",
          "text": [
            "Requirement already satisfied: pyspark in /usr/local/lib/python3.10/dist-packages (3.5.0)\n",
            "Requirement already satisfied: py4j==0.10.9.7 in /usr/local/lib/python3.10/dist-packages (from pyspark) (0.10.9.7)\n"
          ]
        }
      ],
      "source": [
        "!pip install pyspark"
      ]
    },
    {
      "cell_type": "code",
      "source": [
        "\n",
        "import pyspark\n",
        "from pyspark.sql import SparkSession\n",
        "from pyspark.sql.functions import *\n",
        "from pyspark.sql.types import *\n",
        "\n",
        "spark = SparkSession.builder.appName(\"PySparkEDA\").getOrCreate()\n",
        "spark.conf.set(\"spark.sql.legacy.timeParserPolicy\", \"LEGACY\")\n",
        "\n",
        "file_path = \"googleplaystore.csv\"\n",
        "\n",
        "readCsv = spark.read.csv(file_path, header=True, inferSchema=True)\n",
        "\n",
        "\n",
        "# Show the first few rows of the dataset\n",
        "print('Total no of rows  the dataset :', readCsv.count() )\n",
        "\n",
        "readCsv.printSchema()\n",
        "\n",
        "print('Displaying first 10 rows of the dataset')\n",
        "\n",
        "readCsv.show(10)"
      ],
      "metadata": {
        "colab": {
          "base_uri": "https://localhost:8080/"
        },
        "id": "Je2n8uoztmXe",
        "outputId": "0c3a460f-2d90-48ff-89ad-5779c0b3b9dc"
      },
      "execution_count": null,
      "outputs": [
        {
          "output_type": "stream",
          "name": "stdout",
          "text": [
            "Total no of rows  the dataset : 10841\n",
            "root\n",
            " |-- App: string (nullable = true)\n",
            " |-- Category: string (nullable = true)\n",
            " |-- Rating: string (nullable = true)\n",
            " |-- Reviews: string (nullable = true)\n",
            " |-- Size: string (nullable = true)\n",
            " |-- Installs: string (nullable = true)\n",
            " |-- Type: string (nullable = true)\n",
            " |-- Price: string (nullable = true)\n",
            " |-- Content Rating: string (nullable = true)\n",
            " |-- Genres: string (nullable = true)\n",
            " |-- Last Updated: string (nullable = true)\n",
            " |-- Current Ver: string (nullable = true)\n",
            " |-- Android Ver: string (nullable = true)\n",
            "\n",
            "Dsiplaying first 10 rows of the dataset\n",
            "+--------------------+--------------+------+-------+----+-----------+----+-----+--------------+--------------------+------------------+------------------+------------+\n",
            "|                 App|      Category|Rating|Reviews|Size|   Installs|Type|Price|Content Rating|              Genres|      Last Updated|       Current Ver| Android Ver|\n",
            "+--------------------+--------------+------+-------+----+-----------+----+-----+--------------+--------------------+------------------+------------------+------------+\n",
            "|Photo Editor & Ca...|ART_AND_DESIGN|   4.1|    159| 19M|    10,000+|Free|    0|      Everyone|        Art & Design|   January 7, 2018|             1.0.0|4.0.3 and up|\n",
            "| Coloring book moana|ART_AND_DESIGN|   3.9|    967| 14M|   500,000+|Free|    0|      Everyone|Art & Design;Pret...|  January 15, 2018|             2.0.0|4.0.3 and up|\n",
            "|U Launcher Lite –...|ART_AND_DESIGN|   4.7|  87510|8.7M| 5,000,000+|Free|    0|      Everyone|        Art & Design|    August 1, 2018|             1.2.4|4.0.3 and up|\n",
            "|Sketch - Draw & P...|ART_AND_DESIGN|   4.5| 215644| 25M|50,000,000+|Free|    0|          Teen|        Art & Design|      June 8, 2018|Varies with device|  4.2 and up|\n",
            "|Pixel Draw - Numb...|ART_AND_DESIGN|   4.3|    967|2.8M|   100,000+|Free|    0|      Everyone|Art & Design;Crea...|     June 20, 2018|               1.1|  4.4 and up|\n",
            "|Paper flowers ins...|ART_AND_DESIGN|   4.4|    167|5.6M|    50,000+|Free|    0|      Everyone|        Art & Design|    March 26, 2017|               1.0|  2.3 and up|\n",
            "|Smoke Effect Phot...|ART_AND_DESIGN|   3.8|    178| 19M|    50,000+|Free|    0|      Everyone|        Art & Design|    April 26, 2018|               1.1|4.0.3 and up|\n",
            "|    Infinite Painter|ART_AND_DESIGN|   4.1|  36815| 29M| 1,000,000+|Free|    0|      Everyone|        Art & Design|     June 14, 2018|          6.1.61.1|  4.2 and up|\n",
            "|Garden Coloring Book|ART_AND_DESIGN|   4.4|  13791| 33M| 1,000,000+|Free|    0|      Everyone|        Art & Design|September 20, 2017|             2.9.2|  3.0 and up|\n",
            "|Kids Paint Free -...|ART_AND_DESIGN|   4.7|    121|3.1M|    10,000+|Free|    0|      Everyone|Art & Design;Crea...|      July 3, 2018|               2.8|4.0.3 and up|\n",
            "+--------------------+--------------+------+-------+----+-----------+----+-----+--------------+--------------------+------------------+------------------+------------+\n",
            "only showing top 10 rows\n",
            "\n"
          ]
        }
      ]
    },
    {
      "cell_type": "code",
      "source": [
        "print(\"descriptive anallysis\")\n",
        "\n",
        "readCsv.describe().show()\n",
        "\n",
        "readCsv = readCsv.drop(\"Current Ver\", \"Android Ver\" , \"Genres\")\n",
        "\n",
        "readCsv.select([count(when(col(x).isNull(), x)).alias(x) for x in readCsv.columns]).show() #finding all null entries\n",
        "\n",
        "readCsv = readCsv.fillna('Everyone', \"Content Rating\")\n"
      ],
      "metadata": {
        "colab": {
          "base_uri": "https://localhost:8080/"
        },
        "id": "iKj-XQyZuBPb",
        "outputId": "1bbaa61d-f2b3-46fa-8238-06ff039188d4"
      },
      "execution_count": null,
      "outputs": [
        {
          "output_type": "stream",
          "name": "stdout",
          "text": [
            "descritive anallysis\n",
            "+-------+--------------------+-------------+-----------+-----------------+------------------+------------------+-----+------------------+--------------+------+-----------------+-------------+------------------+\n",
            "|summary|                 App|     Category|     Rating|          Reviews|              Size|          Installs| Type|             Price|Content Rating|Genres|     Last Updated|  Current Ver|       Android Ver|\n",
            "+-------+--------------------+-------------+-----------+-----------------+------------------+------------------+-----+------------------+--------------+------+-----------------+-------------+------------------+\n",
            "|  count|               10841|        10841|      10841|            10841|             10841|             10841|10841|             10841|         10840| 10841|            10841|        10840|             10840|\n",
            "|   mean|                NULL|          1.9|        NaN|444225.1924709356|              NULL| 2.866666666666667|  NaN|               0.0|          NULL|  NULL|              0.0|          NaN|               NaN|\n",
            "| stddev|                NULL|         NULL|        NaN|2928025.838407947|              NULL|2.4846193538112304|  NaN|               0.0|          NULL|  NULL|              0.0|          NaN|               NaN|\n",
            "|    min|\"\"\"i DT\"\" Fútbol....| traffic jams| navigation|          camera\"|            1,000+|                 0|    0|             $0.99|    1,000,000+|Action|                0|      0.0.0.2|        1.0 and up|\n",
            "|    max|🔥 Football Wallp...|      WEATHER|        NaN|    weight lose)\"|Varies with device|              Free| Paid|Varies with device|       Unrated|  Word|September 9, 2017|version 0.994|Varies with device|\n",
            "+-------+--------------------+-------------+-----------+-----------------+------------------+------------------+-----+------------------+--------------+------+-----------------+-------------+------------------+\n",
            "\n",
            "+---+--------+------+-------+----+--------+----+-----+--------------+------------+\n",
            "|App|Category|Rating|Reviews|Size|Installs|Type|Price|Content Rating|Last Updated|\n",
            "+---+--------+------+-------+----+--------+----+-----+--------------+------------+\n",
            "|  0|       0|     0|      0|   0|       0|   0|    0|             1|           0|\n",
            "+---+--------+------+-------+----+--------+----+-----+--------------+------------+\n",
            "\n"
          ]
        }
      ]
    },
    {
      "cell_type": "code",
      "source": [
        "#renaming, removing M or K string from size column,\n",
        "#removing '+' symbol from install col,\n",
        "#removing dollor symbol from price col in below cmds\n",
        "readCsv = readCsv.withColumnRenamed(\"Last Updated\", \"yearUpdated\") \\\n",
        "\n",
        "readCsv = readCsv.withColumn(\"yearUpdated\", to_date('yearUpdated','MMM d, yyyy'))\n",
        "\n",
        "\n",
        "readCsv = readCsv.withColumn('Size', translate('Size', 'Mk', ''))\n",
        "\n",
        "readCsv = readCsv.withColumn('Installs', translate('Installs', '+,', ''))\n",
        "\n",
        "readCsv = readCsv.withColumn('Price', translate('Price', '$', ''))\n",
        "\n",
        "readCsv.show(5)"
      ],
      "metadata": {
        "colab": {
          "base_uri": "https://localhost:8080/"
        },
        "id": "dbx_3qrTuBq7",
        "outputId": "c04f2dae-5544-4a09-faa1-64c280fa5ad7"
      },
      "execution_count": null,
      "outputs": [
        {
          "output_type": "stream",
          "name": "stdout",
          "text": [
            "+--------------------+--------------+------+-------+----+--------+----+-----+--------------+-----------+\n",
            "|                 App|      Category|Rating|Reviews|Size|Installs|Type|Price|Content Rating|yearUpdated|\n",
            "+--------------------+--------------+------+-------+----+--------+----+-----+--------------+-----------+\n",
            "|Photo Editor & Ca...|ART_AND_DESIGN|   4.1|    159|  19|   10000|Free|    0|      Everyone| 2018-01-07|\n",
            "| Coloring book moana|ART_AND_DESIGN|   3.9|    967|  14|  500000|Free|    0|      Everyone| 2018-01-15|\n",
            "|U Launcher Lite –...|ART_AND_DESIGN|   4.7|  87510| 8.7| 5000000|Free|    0|      Everyone| 2018-08-01|\n",
            "|Sketch - Draw & P...|ART_AND_DESIGN|   4.5| 215644|  25|50000000|Free|    0|          Teen| 2018-06-08|\n",
            "|Pixel Draw - Numb...|ART_AND_DESIGN|   4.3|    967| 2.8|  100000|Free|    0|      Everyone| 2018-06-20|\n",
            "+--------------------+--------------+------+-------+----+--------+----+-----+--------------+-----------+\n",
            "only showing top 5 rows\n",
            "\n"
          ]
        }
      ]
    },
    {
      "cell_type": "code",
      "source": [
        "#Data type conversion frm string to int, float etc\n",
        "\n",
        "readCsv = readCsv.withColumn(\"Installs\", readCsv[\"Installs\"].cast(IntegerType()))\n",
        "\n",
        "readCsv = readCsv.withColumn(\"Rating\", readCsv[\"Rating\"].cast(FloatType()))\n",
        "\n",
        "readCsv = readCsv.withColumn(\"Size\", readCsv[\"Size\"].cast(FloatType()))\n",
        "\n",
        "readCsv = readCsv.withColumn(\"Price\", readCsv[\"Price\"].cast(FloatType()))\n",
        "\n",
        "readCsv.printSchema()"
      ],
      "metadata": {
        "colab": {
          "base_uri": "https://localhost:8080/"
        },
        "id": "Eam5b1c-uB5k",
        "outputId": "179e2a10-4790-499e-fd46-478cfc2342bb"
      },
      "execution_count": null,
      "outputs": [
        {
          "output_type": "stream",
          "name": "stdout",
          "text": [
            "root\n",
            " |-- App: string (nullable = true)\n",
            " |-- Category: string (nullable = true)\n",
            " |-- Rating: float (nullable = true)\n",
            " |-- Reviews: string (nullable = true)\n",
            " |-- Size: float (nullable = true)\n",
            " |-- Installs: integer (nullable = true)\n",
            " |-- Type: string (nullable = true)\n",
            " |-- Price: float (nullable = true)\n",
            " |-- Content Rating: string (nullable = false)\n",
            " |-- yearUpdated: date (nullable = true)\n",
            "\n"
          ]
        }
      ]
    },
    {
      "cell_type": "code",
      "source": [
        "# Applying distinct() to remove duplicate rows\n",
        "readCsv = readCsv.distinct()\n",
        "print(\"Distinct count: \"+str(readCsv.count()))\n"
      ],
      "metadata": {
        "colab": {
          "base_uri": "https://localhost:8080/"
        },
        "id": "rkoGNRt1uB_h",
        "outputId": "31d9a6e5-d190-4195-c64b-cb498e008bf2"
      },
      "execution_count": null,
      "outputs": [
        {
          "output_type": "stream",
          "name": "stdout",
          "text": [
            "Distinct count: 10358\n"
          ]
        }
      ]
    },
    {
      "cell_type": "code",
      "source": [
        "#filter condition with selective columns\n",
        "readCsv.select('App',\n",
        " 'Category',\n",
        " 'Size',).filter(readCsv.Rating>='4.5').show()\n",
        "\n",
        "\n",
        "\n"
      ],
      "metadata": {
        "colab": {
          "base_uri": "https://localhost:8080/"
        },
        "id": "wLeCfhDGuCEz",
        "outputId": "c95f0d1a-b33c-4419-e534-726615be047f"
      },
      "execution_count": null,
      "outputs": [
        {
          "output_type": "stream",
          "name": "stdout",
          "text": [
            "+--------------------+-------------------+-----+\n",
            "|                 App|           Category| Size|\n",
            "+--------------------+-------------------+-----+\n",
            "|Sync.ME – Caller ...|      COMMUNICATION| 17.0|\n",
            "| Toca Life: Hospital|          EDUCATION| 24.0|\n",
            "|Everlance: Free M...|            FINANCE| 14.0|\n",
            "|Hungry Shark Evol...|               GAME|100.0|\n",
            "|Fruit Block - Puz...|               GAME| 33.0|\n",
            "|Breastfeeding Tra...|            MEDICAL| 23.0|\n",
            "|Taha Al Junaid Qu...|          LIFESTYLE|  4.2|\n",
            "|FC Barcelona Offi...|             SPORTS| 56.0|\n",
            "|    BV Taxi - Driver|MAPS_AND_NAVIGATION| 10.0|\n",
            "|               CF PD|            FINANCE|  2.7|\n",
            "|Deck Shop for Cla...|             FAMILY| 13.0|\n",
            "|      Army of Heroes|             FAMILY| 46.0|\n",
            "|            Checkers|               GAME|  3.3|\n",
            "|             DN Blog|             SOCIAL|  4.2|\n",
            "|DX Simulation for...|             FAMILY| 31.0|\n",
            "|Tunisian Dinar: E...|            FINANCE|  3.8|\n",
            "| Ec Solutions Mobile|           BUSINESS|  4.0|\n",
            "|           EG Player|             FAMILY| 13.0|\n",
            "|FD Calculator (EM...|            FINANCE|  2.3|\n",
            "|      La Fe de Jesús|BOOKS_AND_REFERENCE|  2.9|\n",
            "+--------------------+-------------------+-----+\n",
            "only showing top 20 rows\n",
            "\n"
          ]
        }
      ]
    },
    {
      "cell_type": "code",
      "source": [
        "#showing Total reviws per category wise using groupBy function\n",
        "\n",
        "result = readCsv.groupBy(\"Category\") \\\n",
        "            .agg(sum(\"Reviews\").alias(\"TotalReview\"))\n",
        "\n",
        "result.show(5)"
      ],
      "metadata": {
        "colab": {
          "base_uri": "https://localhost:8080/"
        },
        "id": "8lG6oeK3uCJo",
        "outputId": "c8e264b2-49b9-4e9d-9d56-5daa1888190f"
      },
      "execution_count": null,
      "outputs": [
        {
          "output_type": "stream",
          "name": "stdout",
          "text": [
            "+-------------+------------+\n",
            "|     Category| TotalReview|\n",
            "+-------------+------------+\n",
            "|       EVENTS|    161018.0|\n",
            "|       SPORTS| 6.5322708E7|\n",
            "|       COMICS|   3383276.0|\n",
            "|      WEATHER| 1.4604735E7|\n",
            "|VIDEO_PLAYERS|1.10380188E8|\n",
            "+-------------+------------+\n",
            "only showing top 5 rows\n",
            "\n"
          ]
        }
      ]
    },
    {
      "cell_type": "code",
      "source": [
        "#showing  the most count of price per app using groupBy and orderBy function\n",
        "\n",
        "price_count = readCsv.groupBy('Price').count().orderBy('count', ascending=False)\n",
        "price_count.show()\n"
      ],
      "metadata": {
        "colab": {
          "base_uri": "https://localhost:8080/"
        },
        "id": "MvZernlqv0uQ",
        "outputId": "d4b79262-b0fc-452b-e37c-620552ce9f28"
      },
      "execution_count": null,
      "outputs": [
        {
          "output_type": "stream",
          "name": "stdout",
          "text": [
            "+------+-----+\n",
            "| Price|count|\n",
            "+------+-----+\n",
            "|   0.0| 9590|\n",
            "|  0.99|  146|\n",
            "|  2.99|  125|\n",
            "|  1.99|   73|\n",
            "|  4.99|   70|\n",
            "|  3.99|   60|\n",
            "|  1.49|   46|\n",
            "|  5.99|   27|\n",
            "|  2.49|   25|\n",
            "|  9.99|   19|\n",
            "|399.99|   12|\n",
            "|  6.99|   12|\n",
            "|  4.49|    9|\n",
            "| 14.99|    9|\n",
            "|  7.99|    7|\n",
            "|  3.49|    7|\n",
            "|  6.49|    5|\n",
            "| 19.99|    5|\n",
            "|  5.49|    5|\n",
            "| 29.99|    5|\n",
            "+------+-----+\n",
            "only showing top 20 rows\n",
            "\n"
          ]
        }
      ]
    },
    {
      "cell_type": "code",
      "source": [
        "#showing total installations of app per category wise and sorting it based on summation of install\n",
        "\n",
        "install_trend = readCsv.groupBy('Category').agg({'Installs': 'sum'}).orderBy('sum(Installs)', ascending=False)\n",
        "install_trend.show()"
      ],
      "metadata": {
        "colab": {
          "base_uri": "https://localhost:8080/"
        },
        "id": "mBsmsTNiv06N",
        "outputId": "f9f79bdd-b65c-4144-c5ab-7a17b093d956"
      },
      "execution_count": null,
      "outputs": [
        {
          "output_type": "stream",
          "name": "stdout",
          "text": [
            "+-------------------+-------------+\n",
            "|           Category|sum(Installs)|\n",
            "+-------------------+-------------+\n",
            "|               GAME|  31544024415|\n",
            "|      COMMUNICATION|  24152276251|\n",
            "|             SOCIAL|  12513867902|\n",
            "|       PRODUCTIVITY|  12463091369|\n",
            "|              TOOLS|  11452771915|\n",
            "|             FAMILY|  10041692505|\n",
            "|        PHOTOGRAPHY|   9721247655|\n",
            "|   TRAVEL_AND_LOCAL|   6361887146|\n",
            "|      VIDEO_PLAYERS|   6222002720|\n",
            "| NEWS_AND_MAGAZINES|   5393217760|\n",
            "|           SHOPPING|   2573348785|\n",
            "|      ENTERTAINMENT|   2455660000|\n",
            "|    PERSONALIZATION|   2074494782|\n",
            "|BOOKS_AND_REFERENCE|   1916469576|\n",
            "|             SPORTS|   1528574498|\n",
            "| HEALTH_AND_FITNESS|   1360022512|\n",
            "|           BUSINESS|    863664865|\n",
            "|            FINANCE|    770348734|\n",
            "|MAPS_AND_NAVIGATION|    719281890|\n",
            "|          LIFESTYLE|    534823539|\n",
            "+-------------------+-------------+\n",
            "only showing top 20 rows\n",
            "\n"
          ]
        }
      ]
    },
    {
      "cell_type": "code",
      "source": [
        "#creating temporal view for sql queries\n",
        "\n",
        "readCsv.createOrReplaceTempView(\"readCsv\")\n",
        "\n",
        "#sql query for displaying total install per rating range\n",
        "\n",
        "spark.sql( \"\"\"\n",
        "SELECT\n",
        "    CASE WHEN rating <= 2 THEN '0-2'\n",
        "         WHEN rating > 2 AND rating <= 3 THEN '2-3'\n",
        "         WHEN rating > 3 AND rating <= 4 THEN '3-4'\n",
        "         WHEN rating > 4 AND rating <= 5 THEN '4-5'\n",
        "    END AS RatingRange,\n",
        "    SUM(installs) AS TotalInstalls\n",
        "FROM\n",
        "    readCsv\n",
        "GROUP BY RatingRange\n",
        "ORDER BY RatingRange\n",
        "\n",
        "\"\"\").show()\n",
        "\n"
      ],
      "metadata": {
        "colab": {
          "base_uri": "https://localhost:8080/"
        },
        "id": "-9aefJxlv1As",
        "outputId": "f97b00ef-7eeb-4aec-9aa6-093a1a7012f4"
      },
      "execution_count": null,
      "outputs": [
        {
          "output_type": "stream",
          "name": "stdout",
          "text": [
            "+-----------+-------------+\n",
            "|RatingRange|TotalInstalls|\n",
            "+-----------+-------------+\n",
            "|       NULL|      5963197|\n",
            "|        0-2|      6096625|\n",
            "|        2-3|     54755330|\n",
            "|        3-4|  17770681630|\n",
            "|        4-5| 128788417753|\n",
            "+-----------+-------------+\n",
            "\n"
          ]
        }
      ]
    },
    {
      "cell_type": "code",
      "source": [
        "# displaying HighestRating, LowestRating, HighestPrice, LowestPrice, NumberOfReviews\n",
        "# per app wise category\n",
        "\n",
        "spark.sql(\"\"\"\n",
        "SELECT\n",
        "    Category,\n",
        "    MAX(Rating) AS HighestRating,\n",
        "    MIN(Rating) AS LowestRating,\n",
        "    MAX(Price) AS HighestPrice,\n",
        "    MIN(Price) AS LowestPrice,\n",
        "    COUNT(Reviews) AS NumberOfReviews\n",
        "FROM\n",
        "    readCsv\n",
        "\n",
        "WHERE\n",
        "    Rating >= 1 AND Rating <= 5\n",
        "GROUP BY\n",
        "    Category\n",
        "\"\"\").show()\n",
        "\n"
      ],
      "metadata": {
        "colab": {
          "base_uri": "https://localhost:8080/"
        },
        "id": "4FakbJgxuCO_",
        "outputId": "b986e161-3c05-4c8d-8168-b80405d0d01e"
      },
      "execution_count": null,
      "outputs": [
        {
          "output_type": "stream",
          "name": "stdout",
          "text": [
            "+-------------------+-------------+------------+------------+-----------+---------------+\n",
            "|           Category|HighestRating|LowestRating|HighestPrice|LowestPrice|NumberOfReviews|\n",
            "+-------------------+-------------+------------+------------+-----------+---------------+\n",
            "|             EVENTS|          5.0|         2.9|         0.0|        0.0|             45|\n",
            "|             SPORTS|          5.0|         1.5|       29.99|        0.0|            286|\n",
            "|             COMICS|          5.0|         2.8|         0.0|        0.0|             58|\n",
            "|            WEATHER|          4.8|         3.3|        6.99|        0.0|             75|\n",
            "|      VIDEO_PLAYERS|          4.9|         1.8|        5.99|        0.0|            160|\n",
            "|  AUTO_AND_VEHICLES|          4.9|         2.1|        1.99|        0.0|             73|\n",
            "|          PARENTING|          5.0|         2.0|        4.99|        0.0|             50|\n",
            "|      ENTERTAINMENT|          4.7|         3.0|        4.99|        0.0|            111|\n",
            "|    PERSONALIZATION|          5.0|         2.5|        9.99|        0.0|            310|\n",
            "|   TRAVEL_AND_LOCAL|          5.0|         2.2|        8.99|        0.0|            205|\n",
            "| HEALTH_AND_FITNESS|          5.0|         1.4|        7.99|        0.0|            261|\n",
            "|BOOKS_AND_REFERENCE|          5.0|         2.7|         4.6|        0.0|            177|\n",
            "|     FOOD_AND_DRINK|          5.0|         1.7|        4.99|        0.0|            106|\n",
            "|        PHOTOGRAPHY|          5.0|         2.0|       19.99|        0.0|            304|\n",
            "|           BUSINESS|          5.0|         1.0|       17.99|        0.0|            270|\n",
            "|             FAMILY|          5.0|         1.0|      399.99|        0.0|           1718|\n",
            "|           SHOPPING|          5.0|         1.6|        2.99|        0.0|            202|\n",
            "|     HOUSE_AND_HOME|          4.8|         2.8|         0.0|        0.0|             68|\n",
            "|               GAME|          5.0|         1.0|       17.99|        0.0|           1074|\n",
            "|          EDUCATION|          4.9|         3.5|        5.99|        0.0|            129|\n",
            "+-------------------+-------------+------------+------------+-----------+---------------+\n",
            "only showing top 20 rows\n",
            "\n"
          ]
        }
      ]
    },
    {
      "cell_type": "code",
      "source": [
        "#loading second dataset for app based user reviews\n",
        "\n",
        "file_path = \"googleplaystore_user_reviews.csv\"\n",
        "\n",
        "readReviewCsv = spark.read.csv(file_path, header=True, inferSchema=True)\n",
        "\n",
        "\n",
        "# Show the first few rows of the dataset\n",
        "print('Total no of rows  the dataset :', readReviewCsv.count() )\n",
        "\n",
        "readReviewCsv.printSchema()\n",
        "\n",
        "print('Dsiplaying first 10 rows of the dataset')\n",
        "\n",
        "readReviewCsv.show()\n",
        "\n",
        "\n",
        "\n"
      ],
      "metadata": {
        "colab": {
          "base_uri": "https://localhost:8080/"
        },
        "id": "oWj00-n5uCT8",
        "outputId": "f8db19f5-d126-4a67-9781-8aa651416257"
      },
      "execution_count": null,
      "outputs": [
        {
          "output_type": "stream",
          "name": "stdout",
          "text": [
            "Total no of rows  the dataset : 64295\n",
            "root\n",
            " |-- App: string (nullable = true)\n",
            " |-- Translated_Review: string (nullable = true)\n",
            " |-- Sentiment: string (nullable = true)\n",
            " |-- Sentiment_Polarity: string (nullable = true)\n",
            " |-- Sentiment_Subjectivity: string (nullable = true)\n",
            "\n",
            "Dsiplaying first 10 rows of the dataset\n",
            "+--------------------+--------------------+--------------------+-------------------+----------------------+\n",
            "|                 App|   Translated_Review|           Sentiment| Sentiment_Polarity|Sentiment_Subjectivity|\n",
            "+--------------------+--------------------+--------------------+-------------------+----------------------+\n",
            "|10 Best Foods for...|\"I like eat delic...| also \"\"Best Befo...|           Positive|                   1.0|\n",
            "|10 Best Foods for...|This help eating ...|            Positive|               0.25|   0.28846153846153844|\n",
            "|10 Best Foods for...|                 nan|                 nan|                nan|                   nan|\n",
            "|10 Best Foods for...|Works great espec...|            Positive|                0.4|                 0.875|\n",
            "|10 Best Foods for...|        Best idea us|            Positive|                1.0|                   0.3|\n",
            "|10 Best Foods for...|            Best way|            Positive|                1.0|                   0.3|\n",
            "|10 Best Foods for...|             Amazing|            Positive| 0.6000000000000001|                   0.9|\n",
            "|10 Best Foods for...|                 nan|                 nan|                nan|                   nan|\n",
            "|10 Best Foods for...|Looking forward app,|             Neutral|                0.0|                   0.0|\n",
            "|10 Best Foods for...|It helpful site !...|             Neutral|                0.0|                   0.0|\n",
            "|10 Best Foods for...|           good you.|            Positive|                0.7|    0.6000000000000001|\n",
            "|10 Best Foods for...|Useful informatio...|            Positive|                0.2|                   0.1|\n",
            "|10 Best Foods for...|Thank you! Great ...|            Positive|               0.75|                 0.875|\n",
            "|10 Best Foods for...|Greatest ever Com...|            Positive|          0.9921875|    0.8666666666666667|\n",
            "|10 Best Foods for...|Good health.........|            Positive| 0.5499999999999999|    0.5111111111111112|\n",
            "|10 Best Foods for...|                 nan|                 nan|                nan|                   nan|\n",
            "|10 Best Foods for...|Health It's impor...|            Positive|               0.45|                   1.0|\n",
            "|10 Best Foods for...|Mrs sunita bhati ...|            Positive|                0.6|    0.6666666666666666|\n",
            "|10 Best Foods for...|Very Useful in di...|            Positive|0.29500000000000004|                   0.1|\n",
            "|10 Best Foods for...|  One greatest apps.|            Positive|                1.0|                   1.0|\n",
            "+--------------------+--------------------+--------------------+-------------------+----------------------+\n",
            "only showing top 20 rows\n",
            "\n"
          ]
        }
      ]
    },
    {
      "cell_type": "code",
      "source": [
        "# Remove rows with NaN values in the specified columns\n",
        "\n",
        "def to_null(c):\n",
        "    return when(~(col(c).isNull() | isnan(col(c)) | (trim(col(c)) == \"\")), col(c))\n",
        "\n",
        "\n",
        "readReviewCsv.select([to_null(c).alias(c) for c in readReviewCsv.columns]).na.drop().show()"
      ],
      "metadata": {
        "colab": {
          "base_uri": "https://localhost:8080/"
        },
        "id": "yG49h9dowIxn",
        "outputId": "92cac6b0-f1eb-4ab0-f836-935b91d34dbd"
      },
      "execution_count": null,
      "outputs": [
        {
          "output_type": "stream",
          "name": "stdout",
          "text": [
            "+--------------------+--------------------+--------------------+-------------------+----------------------+\n",
            "|                 App|   Translated_Review|           Sentiment| Sentiment_Polarity|Sentiment_Subjectivity|\n",
            "+--------------------+--------------------+--------------------+-------------------+----------------------+\n",
            "|10 Best Foods for...|\"I like eat delic...| also \"\"Best Befo...|           Positive|                   1.0|\n",
            "|10 Best Foods for...|This help eating ...|            Positive|               0.25|   0.28846153846153844|\n",
            "|10 Best Foods for...|Works great espec...|            Positive|                0.4|                 0.875|\n",
            "|10 Best Foods for...|        Best idea us|            Positive|                1.0|                   0.3|\n",
            "|10 Best Foods for...|            Best way|            Positive|                1.0|                   0.3|\n",
            "|10 Best Foods for...|             Amazing|            Positive| 0.6000000000000001|                   0.9|\n",
            "|10 Best Foods for...|Looking forward app,|             Neutral|                0.0|                   0.0|\n",
            "|10 Best Foods for...|It helpful site !...|             Neutral|                0.0|                   0.0|\n",
            "|10 Best Foods for...|           good you.|            Positive|                0.7|    0.6000000000000001|\n",
            "|10 Best Foods for...|Useful informatio...|            Positive|                0.2|                   0.1|\n",
            "|10 Best Foods for...|Thank you! Great ...|            Positive|               0.75|                 0.875|\n",
            "|10 Best Foods for...|Greatest ever Com...|            Positive|          0.9921875|    0.8666666666666667|\n",
            "|10 Best Foods for...|Good health.........|            Positive| 0.5499999999999999|    0.5111111111111112|\n",
            "|10 Best Foods for...|Health It's impor...|            Positive|               0.45|                   1.0|\n",
            "|10 Best Foods for...|Mrs sunita bhati ...|            Positive|                0.6|    0.6666666666666666|\n",
            "|10 Best Foods for...|Very Useful in di...|            Positive|0.29500000000000004|                   0.1|\n",
            "|10 Best Foods for...|  One greatest apps.|            Positive|                1.0|                   1.0|\n",
            "|10 Best Foods for...|           good nice|            Positive| 0.6499999999999999|                   0.8|\n",
            "|10 Best Foods for...|Healthy Really he...|            Positive|               0.35|                  0.35|\n",
            "|10 Best Foods for...|          God health|             Neutral|                0.0|                   0.0|\n",
            "+--------------------+--------------------+--------------------+-------------------+----------------------+\n",
            "only showing top 20 rows\n",
            "\n"
          ]
        }
      ]
    },
    {
      "cell_type": "code",
      "source": [
        "#sql query to display different sentiment percentage bsed on the App\n",
        "\n",
        "readReviewCsv.createOrReplaceTempView(\"readReviewCsv\")\n",
        "spark.sql(\"\"\"\n",
        "SELECT  App,\n",
        "    ROUND(SUM(CASE WHEN Sentiment = 'Positive' THEN 1 ELSE 0 END) / COUNT(*) * 100, 0) AS Pos_Percentage,\n",
        "    ROUND(SUM(CASE WHEN Sentiment = 'Negative' THEN 1 ELSE 0 END) / COUNT(*) * 100, 0) AS Neg_Percentage,\n",
        "    ROUND(SUM(CASE WHEN Sentiment = 'Neutral' THEN 1 ELSE 0 END) / COUNT(*) * 100, 0) AS Neu_Percentage\n",
        "FROM readReviewCsv r\n",
        "WHERE r.sentiment != \"nan\"\n",
        "GROUP BY App\n",
        "\"\"\").show(truncate=False)\n",
        "\n"
      ],
      "metadata": {
        "colab": {
          "base_uri": "https://localhost:8080/"
        },
        "id": "jvXy2-HdwI3Y",
        "outputId": "28eca4b5-e884-4a04-ad42-b2c8db8c8d5c"
      },
      "execution_count": null,
      "outputs": [
        {
          "output_type": "stream",
          "name": "stdout",
          "text": [
            "+-------------------------------------+--------------+--------------+--------------+\n",
            "|App                                  |Pos_Percentage|Neg_Percentage|Neu_Percentage|\n",
            "+-------------------------------------+--------------+--------------+--------------+\n",
            "|BaBe+ - Berita Indonesia             |65.0          |10.0          |25.0          |\n",
            "|Basketball Stars                     |49.0          |45.0          |4.0           |\n",
            "|Davis's Drug Guide for Nurses        |67.0          |0.0           |33.0          |\n",
            "|Find&Save - Local Shopping           |61.0          |23.0          |13.0          |\n",
            "|Bloomberg Professional               |38.0          |28.0          |35.0          |\n",
            "|Floor Plan Creator                   |70.0          |8.0           |22.0          |\n",
            "|Bagan - Myanmar Keyboard             |63.0          |6.0           |28.0          |\n",
            "|Candy Pop Story                      |55.0          |33.0          |13.0          |\n",
            "|Cricbuzz - Live Cricket Scores & News|68.0          |29.0          |3.0           |\n",
            "|AOL - News, Mail & Video             |52.0          |21.0          |27.0          |\n",
            "|Epocrates Plus                       |73.0          |15.0          |13.0          |\n",
            "|File Explorer                        |61.0          |13.0          |26.0          |\n",
            "|Arrow.io                             |56.0          |29.0          |15.0          |\n",
            "|CALCU™ Stylish Calculator Free       |71.0          |3.0           |26.0          |\n",
            "|FilterGrid - Cam&Photo Editor        |63.0          |26.0          |11.0          |\n",
            "|BELONG Beating Cancer Together       |74.0          |5.0           |21.0          |\n",
            "|Bubble Shooter                       |69.0          |27.0          |3.0           |\n",
            "|Football Live Scores                 |82.0          |6.0           |12.0          |\n",
            "|All-in-One Mahjong 3 FREE            |100.0         |0.0           |0.0           |\n",
            "|Amazon Shopping                      |49.0          |27.0          |22.0          |\n",
            "+-------------------------------------+--------------+--------------+--------------+\n",
            "only showing top 20 rows\n",
            "\n"
          ]
        }
      ]
    },
    {
      "cell_type": "code",
      "source": [
        "#displaying the inner join capability using the two diff dataset\n",
        "\n",
        "spark.sql(\"\"\"\n",
        "SELECT *\n",
        "FROM readCsv\n",
        "INNER JOIN readReviewCsv ON readCsv.App = readReviewCsv.App\n",
        "\"\"\").show(5)"
      ],
      "metadata": {
        "colab": {
          "base_uri": "https://localhost:8080/"
        },
        "id": "mOnXxwe5wJFA",
        "outputId": "29af54a1-9b3a-4fef-9de4-7b89f6f1f076"
      },
      "execution_count": null,
      "outputs": [
        {
          "output_type": "stream",
          "name": "stdout",
          "text": [
            "+--------------------+------------------+------+-------+----+--------+----+-----+--------------+-----------+--------------------+--------------------+--------------------+------------------+----------------------+\n",
            "|                 App|          Category|Rating|Reviews|Size|Installs|Type|Price|Content Rating|yearUpdated|                 App|   Translated_Review|           Sentiment|Sentiment_Polarity|Sentiment_Subjectivity|\n",
            "+--------------------+------------------+------+-------+----+--------+----+-----+--------------+-----------+--------------------+--------------------+--------------------+------------------+----------------------+\n",
            "|10 Best Foods for...|HEALTH_AND_FITNESS|   4.0|   2490| 3.8|  500000|Free|  0.0|  Everyone 10+| 2017-02-17|10 Best Foods for...|\"I like eat delic...| also \"\"Best Befo...|          Positive|                   1.0|\n",
            "|10 Best Foods for...|HEALTH_AND_FITNESS|   4.0|   2490| 3.8|  500000|Free|  0.0|  Everyone 10+| 2017-02-17|10 Best Foods for...|This help eating ...|            Positive|              0.25|   0.28846153846153844|\n",
            "|10 Best Foods for...|HEALTH_AND_FITNESS|   4.0|   2490| 3.8|  500000|Free|  0.0|  Everyone 10+| 2017-02-17|10 Best Foods for...|                 nan|                 nan|               nan|                   nan|\n",
            "|10 Best Foods for...|HEALTH_AND_FITNESS|   4.0|   2490| 3.8|  500000|Free|  0.0|  Everyone 10+| 2017-02-17|10 Best Foods for...|Works great espec...|            Positive|               0.4|                 0.875|\n",
            "|10 Best Foods for...|HEALTH_AND_FITNESS|   4.0|   2490| 3.8|  500000|Free|  0.0|  Everyone 10+| 2017-02-17|10 Best Foods for...|        Best idea us|            Positive|               1.0|                   0.3|\n",
            "+--------------------+------------------+------+-------+----+--------+----+-----+--------------+-----------+--------------------+--------------------+--------------------+------------------+----------------------+\n",
            "only showing top 5 rows\n",
            "\n"
          ]
        }
      ]
    }
  ]
}